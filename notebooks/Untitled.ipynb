{
 "cells": [
  {
   "cell_type": "code",
   "execution_count": 1,
   "metadata": {},
   "outputs": [],
   "source": [
    "import ccxt\n",
    "import sqlalchemy"
   ]
  },
  {
   "cell_type": "code",
   "execution_count": null,
   "metadata": {},
   "outputs": [],
   "source": []
  },
  {
   "cell_type": "code",
   "execution_count": 24,
   "metadata": {},
   "outputs": [],
   "source": [
    "binance = ccxt.binance({\n",
    "#     \"apiKey\": \"NXINxhU6EGq4HwKIWrFMgyhKpfeI9hudPcxJwdCJPt1Kc7aMR5QxMTKcmPzM8duI\",\n",
    "    \"enableRateLimit\": True,\n",
    "})"
   ]
  },
  {
   "cell_type": "code",
   "execution_count": 25,
   "metadata": {},
   "outputs": [
    {
     "data": {
      "text/plain": [
       "{}"
      ]
     },
     "execution_count": 25,
     "metadata": {},
     "output_type": "execute_result"
    }
   ],
   "source": [
    "binance.loadMarkets()\n",
    "binance.currencies"
   ]
  },
  {
   "cell_type": "code",
   "execution_count": 56,
   "metadata": {},
   "outputs": [
    {
     "data": {
      "text/html": [
       "<div>\n",
       "<style scoped>\n",
       "    .dataframe tbody tr th:only-of-type {\n",
       "        vertical-align: middle;\n",
       "    }\n",
       "\n",
       "    .dataframe tbody tr th {\n",
       "        vertical-align: top;\n",
       "    }\n",
       "\n",
       "    .dataframe thead th {\n",
       "        text-align: right;\n",
       "    }\n",
       "</style>\n",
       "<table border=\"1\" class=\"dataframe\">\n",
       "  <thead>\n",
       "    <tr style=\"text-align: right;\">\n",
       "      <th></th>\n",
       "      <th>time</th>\n",
       "      <th>open</th>\n",
       "      <th>high</th>\n",
       "      <th>low</th>\n",
       "      <th>close</th>\n",
       "      <th>volume</th>\n",
       "    </tr>\n",
       "  </thead>\n",
       "  <tbody>\n",
       "    <tr>\n",
       "      <th>0</th>\n",
       "      <td>2020-09-19 23:11:00</td>\n",
       "      <td>0.034761</td>\n",
       "      <td>0.034791</td>\n",
       "      <td>0.034761</td>\n",
       "      <td>0.034786</td>\n",
       "      <td>176.944</td>\n",
       "    </tr>\n",
       "    <tr>\n",
       "      <th>1</th>\n",
       "      <td>2020-09-19 23:12:00</td>\n",
       "      <td>0.034785</td>\n",
       "      <td>0.034788</td>\n",
       "      <td>0.034754</td>\n",
       "      <td>0.034762</td>\n",
       "      <td>117.126</td>\n",
       "    </tr>\n",
       "    <tr>\n",
       "      <th>2</th>\n",
       "      <td>2020-09-19 23:13:00</td>\n",
       "      <td>0.034761</td>\n",
       "      <td>0.034781</td>\n",
       "      <td>0.034761</td>\n",
       "      <td>0.034781</td>\n",
       "      <td>92.912</td>\n",
       "    </tr>\n",
       "    <tr>\n",
       "      <th>3</th>\n",
       "      <td>2020-09-19 23:14:00</td>\n",
       "      <td>0.034782</td>\n",
       "      <td>0.034785</td>\n",
       "      <td>0.034775</td>\n",
       "      <td>0.034779</td>\n",
       "      <td>75.420</td>\n",
       "    </tr>\n",
       "    <tr>\n",
       "      <th>4</th>\n",
       "      <td>2020-09-19 23:15:00</td>\n",
       "      <td>0.034780</td>\n",
       "      <td>0.034784</td>\n",
       "      <td>0.034776</td>\n",
       "      <td>0.034776</td>\n",
       "      <td>113.446</td>\n",
       "    </tr>\n",
       "  </tbody>\n",
       "</table>\n",
       "</div>"
      ],
      "text/plain": [
       "                 time      open      high       low     close   volume\n",
       "0 2020-09-19 23:11:00  0.034761  0.034791  0.034761  0.034786  176.944\n",
       "1 2020-09-19 23:12:00  0.034785  0.034788  0.034754  0.034762  117.126\n",
       "2 2020-09-19 23:13:00  0.034761  0.034781  0.034761  0.034781   92.912\n",
       "3 2020-09-19 23:14:00  0.034782  0.034785  0.034775  0.034779   75.420\n",
       "4 2020-09-19 23:15:00  0.034780  0.034784  0.034776  0.034776  113.446"
      ]
     },
     "execution_count": 56,
     "metadata": {},
     "output_type": "execute_result"
    }
   ],
   "source": [
    "import pandas as pd\n",
    "eth_btc = pd.DataFrame(binance.fetchOHLCV(\"ETH/BTC\"), columns=[\"time\", \"open\", \"high\", \"low\", \"close\", \"volume\"])\n",
    "eth_btc[\"time\"] = pd.to_datetime(eth_btc[\"time\"], unit=\"ms\")\n",
    "eth_btc.head()"
   ]
  }
 ],
 "metadata": {
  "kernelspec": {
   "display_name": "Python 3",
   "language": "python",
   "name": "python3"
  },
  "language_info": {
   "codemirror_mode": {
    "name": "ipython",
    "version": 3
   },
   "file_extension": ".py",
   "mimetype": "text/x-python",
   "name": "python",
   "nbconvert_exporter": "python",
   "pygments_lexer": "ipython3",
   "version": "3.8.5"
  }
 },
 "nbformat": 4,
 "nbformat_minor": 4
}
